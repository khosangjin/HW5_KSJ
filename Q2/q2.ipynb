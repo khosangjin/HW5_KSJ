{
 "cells": [
  {
   "cell_type": "code",
   "execution_count": 22,
   "id": "d5f79066",
   "metadata": {},
   "outputs": [
    {
     "name": "stdout",
     "output_type": "stream",
     "text": [
      "*** Annual Temperature Report for Seoul in 2022 ***\n",
      "\n",
      "Day with the Largest Temperature Variation : 2022-11-29\n",
      "\n",
      "Maximum Temperature Difference : 16.6\n",
      "\n",
      "Day with the Smallest Temperature Variation : 2022-06-29\n",
      "\n",
      "Minimum Temperature Difference : 1.7\n",
      "\n"
     ]
    }
   ],
   "source": [
    "import csv\n",
    "\n",
    "if __name__ == \"__main__\":\n",
    "\n",
    "    f = open('q2.csv')\n",
    "    data = csv.reader(f)\n",
    "    header = next(data)\n",
    "\n",
    "    #평균 / 최저 / 최고\n",
    "\n",
    "    max_diff = 0\n",
    "    max_diff_date = \"\"\n",
    "\n",
    "    min_diff = 999999999\n",
    "    min_diff_date = \"\"\n",
    "\n",
    "    for row in data :\n",
    "    \n",
    "        if row[3] != \"\" and row[4] != \"\": \n",
    "            row[3] = float(row[3])\n",
    "            row[4] = float(row[4])\n",
    "        \n",
    "            diff = row[4] - row[3]\n",
    "        \n",
    "            if max_diff < diff:\n",
    "                max_diff = diff\n",
    "                max_diff_date = row[0].replace(\"\\t\",\"\")\n",
    "            \n",
    "            if min_diff > diff:\n",
    "                min_diff = diff\n",
    "                min_diff_date = row[0].replace(\"\\t\",\"\")\n",
    "        \n",
    "    f.close()\n",
    "\n",
    "    print(\"*** Annual Temperature Report for Seoul in 2022 ***\\n\")\n",
    "    print(\"Day with the Largest Temperature Variation : {0:s}\\n\".format(max_diff_date))\n",
    "    print(\"Maximum Temperature Difference : {0:.1f}\\n\".format(max_diff))\n",
    "    print(\"Day with the Smallest Temperature Variation : {0:s}\\n\".format(min_diff_date))\n",
    "    print(\"Minimum Temperature Difference : {0:.1f}\\n\".format(min_diff))"
   ]
  },
  {
   "cell_type": "code",
   "execution_count": null,
   "id": "1d1b83d4",
   "metadata": {},
   "outputs": [],
   "source": []
  }
 ],
 "metadata": {
  "kernelspec": {
   "display_name": "Python 3 (ipykernel)",
   "language": "python",
   "name": "python3"
  },
  "language_info": {
   "codemirror_mode": {
    "name": "ipython",
    "version": 3
   },
   "file_extension": ".py",
   "mimetype": "text/x-python",
   "name": "python",
   "nbconvert_exporter": "python",
   "pygments_lexer": "ipython3",
   "version": "3.9.13"
  }
 },
 "nbformat": 4,
 "nbformat_minor": 5
}
