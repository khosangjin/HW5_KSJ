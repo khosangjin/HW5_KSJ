{
 "cells": [
  {
   "cell_type": "code",
   "execution_count": 16,
   "id": "371dbb97",
   "metadata": {
    "scrolled": true
   },
   "outputs": [
    {
     "name": "stdout",
     "output_type": "stream",
     "text": [
      "*** Annual Temperature Report for Seoul in 2022 ***\n",
      "Average Temperature: 13.30 Celsius\n",
      "Average Minimum Temperature: 9.21 Celsius\n",
      "Average Maximum Temperature: 18.08 Celsius\n"
     ]
    }
   ],
   "source": [
    "import csv\n",
    "\n",
    "if __name__ == \"__main__\":\n",
    "\n",
    "    f = open('2022_Seoul_Temp.csv')\n",
    "    data = csv.reader(f)\n",
    "    header = next(data)\n",
    "    \n",
    "    #평균 / 최저 / 최고\n",
    "    tem = [0] * 3\n",
    "    cnt = [0] * 3\n",
    "    \n",
    "    for row in data :\n",
    "        \n",
    "        for i in range(2,5):\n",
    "            \n",
    "            #누락된 데이터는 pass\n",
    "            if row[i] != \"\" :\n",
    "                tem[i-2] += float(row[i])\n",
    "                cnt[i-2] += 1\n",
    "    f.close()\n",
    "    print(\"*** Annual Temperature Report for Seoul in 2022 ***\\n\")\n",
    "    print(\"Average Temperature: {0:.2f} Celsius\\n\".format(tem[0]/cnt[0]))\n",
    "    print(\"Average Minimum Temperature: {0:.2f} Celsius\\n\".format(tem[1]/cnt[1]))\n",
    "    print(\"Average Maximum Temperature: {0:.2f} Celsius\".format(tem[2]/cnt[2]))\n",
    "\n"
   ]
  },
  {
   "cell_type": "code",
   "execution_count": null,
   "id": "41a208c4",
   "metadata": {},
   "outputs": [],
   "source": []
  }
 ],
 "metadata": {
  "kernelspec": {
   "display_name": "Python 3 (ipykernel)",
   "language": "python",
   "name": "python3"
  },
  "language_info": {
   "codemirror_mode": {
    "name": "ipython",
    "version": 3
   },
   "file_extension": ".py",
   "mimetype": "text/x-python",
   "name": "python",
   "nbconvert_exporter": "python",
   "pygments_lexer": "ipython3",
   "version": "3.9.13"
  }
 },
 "nbformat": 4,
 "nbformat_minor": 5
}
